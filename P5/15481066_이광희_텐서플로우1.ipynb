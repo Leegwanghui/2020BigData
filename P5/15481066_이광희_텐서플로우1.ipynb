{
  "nbformat": 4,
  "nbformat_minor": 0,
  "metadata": {
    "colab": {
      "name": "tensorBasic.ipynb의 사본",
      "provenance": [],
      "collapsed_sections": []
    },
    "kernelspec": {
      "name": "python3",
      "display_name": "Python 3"
    }
  },
  "cells": [
    {
      "cell_type": "code",
      "metadata": {
        "id": "rweaNDpildjE",
        "colab_type": "code",
        "colab": {}
      },
      "source": [
        "import tensorflow as tf"
      ],
      "execution_count": 0,
      "outputs": []
    },
    {
      "cell_type": "code",
      "metadata": {
        "id": "JQUJ6rE1kVdr",
        "colab_type": "code",
        "outputId": "c164541c-12a5-4cdf-f284-25e91e7a2daf",
        "colab": {
          "base_uri": "https://localhost:8080/",
          "height": 87
        }
      },
      "source": [
        "x=tf.constant([[1.0,2.0,3.0],[4.0,5.0,6.0]])\n",
        "print(x)\n",
        "print(x.shape)"
      ],
      "execution_count": 2,
      "outputs": [
        {
          "output_type": "stream",
          "text": [
            "tf.Tensor(\n",
            "[[1. 2. 3.]\n",
            " [4. 5. 6.]], shape=(2, 3), dtype=float32)\n",
            "(2, 3)\n"
          ],
          "name": "stdout"
        }
      ]
    },
    {
      "cell_type": "code",
      "metadata": {
        "id": "oDkCQDRFlhiG",
        "colab_type": "code",
        "outputId": "925a5369-974f-4523-e7e1-dc10a03d372b",
        "colab": {
          "base_uri": "https://localhost:8080/",
          "height": 122
        }
      },
      "source": [
        "y=tf.constant([[1.0,0.0],[0.0, 1.0], [1.0, 0.0], [0.0, 1.0]])\n",
        "print(y)\n",
        "print(y.shape)"
      ],
      "execution_count": 3,
      "outputs": [
        {
          "output_type": "stream",
          "text": [
            "tf.Tensor(\n",
            "[[1. 0.]\n",
            " [0. 1.]\n",
            " [1. 0.]\n",
            " [0. 1.]], shape=(4, 2), dtype=float32)\n",
            "(4, 2)\n"
          ],
          "name": "stdout"
        }
      ]
    },
    {
      "cell_type": "code",
      "metadata": {
        "id": "qPbaRFw7psag",
        "colab_type": "code",
        "outputId": "14d0c4b1-0f54-4b93-c5ea-3de52dde04c2",
        "colab": {
          "base_uri": "https://localhost:8080/",
          "height": 34
        }
      },
      "source": [
        "print(y.dtype)"
      ],
      "execution_count": 4,
      "outputs": [
        {
          "output_type": "stream",
          "text": [
            "<dtype: 'float32'>\n"
          ],
          "name": "stdout"
        }
      ]
    },
    {
      "cell_type": "code",
      "metadata": {
        "id": "FULRdwvVoOlC",
        "colab_type": "code",
        "outputId": "96d14c9e-6f34-44a9-aae1-8c63194273e3",
        "colab": {
          "base_uri": "https://localhost:8080/",
          "height": 70
        }
      },
      "source": [
        "a=tf.constant([1,2,3,4,5,6], shape=[2,3])\n",
        "print(a)"
      ],
      "execution_count": 5,
      "outputs": [
        {
          "output_type": "stream",
          "text": [
            "tf.Tensor(\n",
            "[[1 2 3]\n",
            " [4 5 6]], shape=(2, 3), dtype=int32)\n"
          ],
          "name": "stdout"
        }
      ]
    },
    {
      "cell_type": "code",
      "metadata": {
        "id": "LQq7SUuOpB-O",
        "colab_type": "code",
        "outputId": "df167cb8-6926-4d3c-a0ab-a1c618d40b0a",
        "colab": {
          "base_uri": "https://localhost:8080/",
          "height": 87
        }
      },
      "source": [
        "b=tf.constant([7,8,9,10,11,12], shape=[3,2])\n",
        "print(b)"
      ],
      "execution_count": 6,
      "outputs": [
        {
          "output_type": "stream",
          "text": [
            "tf.Tensor(\n",
            "[[ 7  8]\n",
            " [ 9 10]\n",
            " [11 12]], shape=(3, 2), dtype=int32)\n"
          ],
          "name": "stdout"
        }
      ]
    },
    {
      "cell_type": "code",
      "metadata": {
        "id": "0tvyrgBIYLBb",
        "colab_type": "code",
        "outputId": "3eee587d-5190-49be-cde5-be540075f200",
        "colab": {
          "base_uri": "https://localhost:8080/",
          "height": 70
        }
      },
      "source": [
        "c=tf.matmul(a,b)\n",
        "print(c)"
      ],
      "execution_count": 7,
      "outputs": [
        {
          "output_type": "stream",
          "text": [
            "tf.Tensor(\n",
            "[[ 58  64]\n",
            " [139 154]], shape=(2, 2), dtype=int32)\n"
          ],
          "name": "stdout"
        }
      ]
    },
    {
      "cell_type": "code",
      "metadata": {
        "id": "bA9D52I-YMKR",
        "colab_type": "code",
        "outputId": "cb6b157d-b373-44a9-9d68-469f13d692d0",
        "colab": {
          "base_uri": "https://localhost:8080/",
          "height": 175
        }
      },
      "source": [
        "j=tf.constant([1,2,3,4,5,6], shape=[2,3])\n",
        "print(j)\n",
        "k=tf.constant([7,8,9,10,11,12], shape=[2,3])\n",
        "print(k)\n",
        "l=tf.add(j,k)\n",
        "print(l)"
      ],
      "execution_count": 8,
      "outputs": [
        {
          "output_type": "stream",
          "text": [
            "tf.Tensor(\n",
            "[[1 2 3]\n",
            " [4 5 6]], shape=(2, 3), dtype=int32)\n",
            "tf.Tensor(\n",
            "[[ 7  8  9]\n",
            " [10 11 12]], shape=(2, 3), dtype=int32)\n",
            "tf.Tensor(\n",
            "[[ 8 10 12]\n",
            " [14 16 18]], shape=(2, 3), dtype=int32)\n"
          ],
          "name": "stdout"
        }
      ]
    }
  ]
}