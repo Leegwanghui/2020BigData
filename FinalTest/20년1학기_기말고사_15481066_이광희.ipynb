{
  "nbformat": 4,
  "nbformat_minor": 0,
  "metadata": {
    "colab": {
      "name": "20년1학기-기말고사.ipynb",
      "provenance": [],
      "collapsed_sections": []
    },
    "kernelspec": {
      "name": "python3",
      "display_name": "Python 3"
    }
  },
  "cells": [
    {
      "cell_type": "markdown",
      "metadata": {
        "id": "USdoQTkkAfiU",
        "colab_type": "text"
      },
      "source": [
        "# 2020년 1학기 기말시험"
      ]
    },
    {
      "cell_type": "markdown",
      "metadata": {
        "id": "Yg0l6Iz-NbQX",
        "colab_type": "text"
      },
      "source": [
        "# 이름 : 이광희"
      ]
    },
    {
      "cell_type": "markdown",
      "metadata": {
        "id": "dde2pQdBKaXE",
        "colab_type": "text"
      },
      "source": [
        "https://colab.research.google.com/에 import하여 셀에 답을 적고 RUN하십시오. 출력한 결과에 따라 스코어링됩니다."
      ]
    },
    {
      "cell_type": "markdown",
      "metadata": {
        "id": "vytowRjHlN1F",
        "colab_type": "text"
      },
      "source": [
        "Q1. CNN 신경망에서 2D 컨볼루션 레이어를 거친 행렬의 값을 파이썬 array형태로 적으시오. 계산을 위해 계산기앱 또는 액셀을 사용해도 좋습니다.\n"
      ]
    },
    {
      "cell_type": "code",
      "metadata": {
        "id": "vO3cm719mB64",
        "colab_type": "code",
        "outputId": "fa46ac4b-692f-478f-9673-20fcaf5f135e",
        "colab": {
          "base_uri": "https://localhost:8080/",
          "height": 34
        }
      },
      "source": [
        "\"\"\" 문제\n",
        "x = [[1,2,3],\n",
        "     [4,5,6],\n",
        "     [7,8,9]]\n",
        "     \n",
        "kernel W =[[0,1],\n",
        "          [1,0]]\n",
        "\n",
        "Padding = VALID\n",
        "\n",
        "convolution을 한 결과를 행렬 y로 하여 print(y)로 출력하시오.\n",
        "\"\"\"\n",
        "y= [[6,8],\n",
        "    [12,14]]   # 여러분의 answer를 파이썬 어레이로 적고 Run하시오.\n",
        "print(y)"
      ],
      "execution_count": 0,
      "outputs": [
        {
          "output_type": "stream",
          "text": [
            "[[6, 8], [12, 14]]\n"
          ],
          "name": "stdout"
        }
      ]
    },
    {
      "cell_type": "markdown",
      "metadata": {
        "id": "ntyM0f5Rgq5t",
        "colab_type": "text"
      },
      "source": [
        "Q2, 아래의 Confusion Matrix를 보고 질문에 답하시오"
      ]
    },
    {
      "cell_type": "code",
      "metadata": {
        "id": "cjqJY4QkYg55",
        "colab_type": "code",
        "outputId": "86a184ad-d996-4321-c95f-ad3156b74b73",
        "colab": {
          "base_uri": "https://localhost:8080/",
          "height": 278
        }
      },
      "source": [
        "# 문제 : 아래의 혼동행렬을 보고 TPR과 FNR을 계산하시오. 단 계산하는 공식을 파이썬으로 코딩하여 값을 구하시오.\n",
        "# 혼동행렬의 row는 실제값, column은 예측값, (1,1)이 True & Positive\n",
        "# 정의 : TPR = True Postive rate, FNR = False Negative rate\n",
        "import seaborn as sn\n",
        "import pandas as pd\n",
        "import matplotlib.pyplot as plt\n",
        "import numpy as np\n",
        "\n",
        "array = np.array([[850,6],\n",
        "                  [50,94]])         \n",
        "\n",
        "sn.set(font_scale=2.0) # for label size\n",
        "sn.heatmap(array, annot=True, annot_kws={\"size\": 18}, fmt='d') # font size\n",
        "\n",
        "plt.show()"
      ],
      "execution_count": 0,
      "outputs": [
        {
          "output_type": "display_data",
          "data": {
            "image/png": "[encoded data removed]",
            "text/plain": [
              "<Figure size 432x288 with 2 Axes>"
            ]
          },
          "metadata": {
            "tags": []
          }
        }
      ]
    },
    {
      "cell_type": "code",
      "metadata": {
        "id": "1cwqB8OwUa36",
        "colab_type": "code",
        "outputId": "1403b3ca-ff8a-4012-9aad-6ec4606d0a9b",
        "colab": {
          "base_uri": "https://localhost:8080/",
          "height": 222
        }
      },
      "source": [
        "# Q2.1 TPR=?  아래에 계산식을 쓰고 Run 시키시오\n",
        "array = np.array(array)\n",
        "tpr=array[1,1]/(array[0,1]+array[1,1])\n",
        "print('TPR깂은 ', tpr)"
      ],
      "execution_count": 12,
      "outputs": [
        {
          "output_type": "error",
          "ename": "NameError",
          "evalue": "ignored",
          "traceback": [
            "\u001b[0;31m---------------------------------------------------------------------------\u001b[0m",
            "\u001b[0;31mNameError\u001b[0m                                 Traceback (most recent call last)",
            "\u001b[0;32m<ipython-input-12-d419487e7b20>\u001b[0m in \u001b[0;36m<module>\u001b[0;34m()\u001b[0m\n\u001b[1;32m      1\u001b[0m \u001b[0;31m# Q2.1 TPR=?  아래에 계산식을 쓰고 Run 시키시오\u001b[0m\u001b[0;34m\u001b[0m\u001b[0;34m\u001b[0m\u001b[0;34m\u001b[0m\u001b[0m\n\u001b[0;32m----> 2\u001b[0;31m \u001b[0marray\u001b[0m \u001b[0;34m=\u001b[0m \u001b[0mnp\u001b[0m\u001b[0;34m.\u001b[0m\u001b[0marray\u001b[0m\u001b[0;34m(\u001b[0m\u001b[0marray\u001b[0m\u001b[0;34m)\u001b[0m\u001b[0;34m\u001b[0m\u001b[0;34m\u001b[0m\u001b[0m\n\u001b[0m\u001b[1;32m      3\u001b[0m \u001b[0mtpr\u001b[0m\u001b[0;34m=\u001b[0m\u001b[0marray\u001b[0m\u001b[0;34m[\u001b[0m\u001b[0;36m1\u001b[0m\u001b[0;34m,\u001b[0m\u001b[0;36m1\u001b[0m\u001b[0;34m]\u001b[0m\u001b[0;34m/\u001b[0m\u001b[0;34m(\u001b[0m\u001b[0marray\u001b[0m\u001b[0;34m[\u001b[0m\u001b[0;36m0\u001b[0m\u001b[0;34m,\u001b[0m\u001b[0;36m1\u001b[0m\u001b[0;34m]\u001b[0m\u001b[0;34m+\u001b[0m\u001b[0marray\u001b[0m\u001b[0;34m[\u001b[0m\u001b[0;36m1\u001b[0m\u001b[0;34m,\u001b[0m\u001b[0;36m1\u001b[0m\u001b[0;34m]\u001b[0m\u001b[0;34m)\u001b[0m\u001b[0;34m\u001b[0m\u001b[0;34m\u001b[0m\u001b[0m\n\u001b[1;32m      4\u001b[0m \u001b[0mprint\u001b[0m\u001b[0;34m(\u001b[0m\u001b[0;34m'TPR깂은 '\u001b[0m\u001b[0;34m,\u001b[0m \u001b[0mtpr\u001b[0m\u001b[0;34m)\u001b[0m\u001b[0;34m\u001b[0m\u001b[0;34m\u001b[0m\u001b[0m\n",
            "\u001b[0;31mNameError\u001b[0m: name 'np' is not defined"
          ]
        }
      ]
    },
    {
      "cell_type": "code",
      "metadata": {
        "id": "BzOe-Zgqkgdc",
        "colab_type": "code",
        "colab": {}
      },
      "source": [
        "# Q2.2 FNR 계산을 위한 코드를 쓰고  Run하시오\n",
        "# 여러분의 코드 "
      ],
      "execution_count": 0,
      "outputs": []
    },
    {
      "cell_type": "code",
      "metadata": {
        "id": "TK_zjLxMEiVM",
        "colab_type": "code",
        "colab": {}
      },
      "source": [
        "#  Q2.3 accurary 계산을 위한 코드를 쓰고  Run하시오\n",
        "# 여러분의 코드"
      ],
      "execution_count": 0,
      "outputs": []
    },
    {
      "cell_type": "markdown",
      "metadata": {
        "id": "yukDPytdDmt7",
        "colab_type": "text"
      },
      "source": [
        "\n",
        "Q3. 다음 신경망 다이어그램을 보고 이를 구현하기 위한 파이썬 코드를 완성하시오"
      ]
    },
    {
      "cell_type": "code",
      "metadata": {
        "id": "dbbSoyMeINdZ",
        "colab_type": "code",
        "outputId": "46ac9f25-8872-497c-9082-09bf386f8b4d",
        "colab": {
          "base_uri": "https://localhost:8080/",
          "height": 548
        }
      },
      "source": [
        "! wget --no-check-certificate 'https://docs.google.com/uc?export=download&id=1jGQthuWngRlgUq7masWosTq1LyzwUAS7' -O 퍼셉트론.png\n",
        "from IPython.display import Image\n",
        "Image(\"퍼셉트론.png\", width=500)  "
      ],
      "execution_count": 13,
      "outputs": [
        {
          "output_type": "stream",
          "text": [
            "--2020-06-10 05:19:20--  https://docs.google.com/uc?export=download&id=1jGQthuWngRlgUq7masWosTq1LyzwUAS7\n",
            "Resolving docs.google.com (docs.google.com)... 172.217.204.113, 172.217.204.138, 172.217.204.139, ...\n",
            "Connecting to docs.google.com (docs.google.com)|172.217.204.113|:443... connected.\n",
            "HTTP request sent, awaiting response... 302 Moved Temporarily\n",
            "Location: https://doc-0s-1s-docs.googleusercontent.com/docs/securesc/ha0ro937gcuc7l7deffksulhg5h7mbp1/drrs13nmfs4ihk01t3q9hkommlli3rp5/1591766325000/04591858293269658552/*/1jGQthuWngRlgUq7masWosTq1LyzwUAS7?e=download [following]\n",
            "Warning: wildcards not supported in HTTP.\n",
            "--2020-06-10 05:19:20--  https://doc-0s-1s-docs.googleusercontent.com/docs/securesc/ha0ro937gcuc7l7deffksulhg5h7mbp1/drrs13nmfs4ihk01t3q9hkommlli3rp5/1591766325000/04591858293269658552/*/1jGQthuWngRlgUq7masWosTq1LyzwUAS7?e=download\n",
            "Resolving doc-0s-1s-docs.googleusercontent.com (doc-0s-1s-docs.googleusercontent.com)... 64.233.170.132, 2607:f8b0:400c:c0d::84\n",
            "Connecting to doc-0s-1s-docs.googleusercontent.com (doc-0s-1s-docs.googleusercontent.com)|64.233.170.132|:443... connected.\n",
            "HTTP request sent, awaiting response... 200 OK\n",
            "Length: 18076 (18K) [image/png]\n",
            "Saving to: ‘퍼셉트론.png’\n",
            "\n",
            "퍼셉트론.png        100%[===================>]  17.65K  --.-KB/s    in 0s      \n",
            "\n",
            "2020-06-10 05:19:21 (99.6 MB/s) - ‘퍼셉트론.png’ saved [18076/18076]\n",
            "\n"
          ],
          "name": "stdout"
        },
        {
          "output_type": "execute_result",
          "data": {
            "image/png": "[encoded data removed]",
            "text/plain": [
              "<IPython.core.display.Image object>"
            ]
          },
          "metadata": {
            "tags": [],
            "image/png": {
              "width": 500
            }
          },
          "execution_count": 13
        }
      ]
    },
    {
      "cell_type": "code",
      "metadata": {
        "id": "wN6S1IvUt6jH",
        "colab_type": "code",
        "colab": {
          "base_uri": "https://localhost:8080/",
          "height": 134
        },
        "outputId": "83df843d-924d-4f67-fcd5-526987703666"
      },
      "source": [
        "#Q3. 위의 그림에 맞는 신경망을 코드로 설계하시오.\n",
        "\n",
        "n = 4 \n",
        "n_inputs = n \n",
        "n_hidden = n  \n",
        "n_outputs = 2  \n",
        "X=tf.placeholder(tf.float64, shape=(None, n_inputs), name='X') \n",
        "with tf.name_scope('nn'):\n",
        "hidden1 = make_nn_layer('hidden', n_hidden, X, activation=tf.nn.relu)\n",
        "outputs = make_nn_layer('outputs', n_outputs, hidden1) "
      ],
      "execution_count": 14,
      "outputs": [
        {
          "output_type": "error",
          "ename": "IndentationError",
          "evalue": "ignored",
          "traceback": [
            "\u001b[0;36m  File \u001b[0;32m\"<ipython-input-14-22b7e481968d>\"\u001b[0;36m, line \u001b[0;32m9\u001b[0m\n\u001b[0;31m    hidden1 = make_nn_layer('hidden', n_hidden, X, activation=tf.nn.relu)\u001b[0m\n\u001b[0m          ^\u001b[0m\n\u001b[0;31mIndentationError\u001b[0m\u001b[0;31m:\u001b[0m expected an indented block\n"
          ]
        }
      ]
    },
    {
      "cell_type": "markdown",
      "metadata": {
        "id": "lZg0CU3IEoG-",
        "colab_type": "text"
      },
      "source": [
        "Q4. 아래의 표를 보고 Keras 코드를 완성하시오\n"
      ]
    },
    {
      "cell_type": "code",
      "metadata": {
        "id": "e78Ut02SEs6q",
        "colab_type": "code",
        "outputId": "a6d3238d-7251-402d-a89c-91f02bd3a66e",
        "colab": {
          "base_uri": "https://localhost:8080/",
          "height": 54
        }
      },
      "source": [
        "#Q4 표\n",
        "\"\"\"\n",
        "Layer (type)                 Output Shape              Param #   \n",
        "=================================================================\n",
        "conv2d_6 (Conv2D)            (None, 24, 24, 32)        832       \n",
        "_________________________________________________________________\n",
        "max_pooling2d_5 (MaxPooling2 (None, 12, 12, 32)        0         \n",
        "_________________________________________________________________\n",
        "dropout_6 (Dropout)          (None, 12, 12, 32)        0         \n",
        "_________________________________________________________________\n",
        "conv2d_7 (Conv2D)            (None, 10, 10, 64)        18496     \n",
        "_________________________________________________________________\n",
        "max_pooling2d_6 (MaxPooling2 (None, 5, 5, 64)          0         \n",
        "_________________________________________________________________\n",
        "dropout_7 (Dropout)          (None, 5, 5, 64)          0         \n",
        "_________________________________________________________________\n",
        "conv2d_8 (Conv2D)            (None, 5, 5, 128)         8320      \n",
        "_________________________________________________________________\n",
        "max_pooling2d_7 (MaxPooling2 (None, 2, 2, 128)         0         \n",
        "_________________________________________________________________\n",
        "dropout_8 (Dropout)          (None, 2, 2, 128)         0         \n",
        "_________________________________________________________________\n",
        "flatten_3 (Flatten)          (None, 512)               0         \n",
        "_________________________________________________________________\n",
        "dense_5 (Dense)              (None, 128)               65664     \n",
        "_________________________________________________________________\n",
        "dense_6 (Dense)              (None, 10)                1290      \n",
        "=================================================================\n",
        "\n",
        "\"\"\""
      ],
      "execution_count": 0,
      "outputs": [
        {
          "output_type": "execute_result",
          "data": {
            "text/plain": [
              "'\\nLayer (type)                 Output Shape              Param #   \\n=================================================================\\nconv2d_6 (Conv2D)            (None, 24, 24, 32)        832       \\n_________________________________________________________________\\nmax_pooling2d_5 (MaxPooling2 (None, 12, 12, 32)        0         \\n_________________________________________________________________\\ndropout_6 (Dropout)          (None, 12, 12, 32)        0         \\n_________________________________________________________________\\nconv2d_7 (Conv2D)            (None, 10, 10, 64)        18496     \\n_________________________________________________________________\\nmax_pooling2d_6 (MaxPooling2 (None, 5, 5, 64)          0         \\n_________________________________________________________________\\ndropout_7 (Dropout)          (None, 5, 5, 64)          0         \\n_________________________________________________________________\\nconv2d_8 (Conv2D)            (None, 5, 5, 128)         8320      \\n_________________________________________________________________\\nmax_pooling2d_7 (MaxPooling2 (None, 2, 2, 128)         0         \\n_________________________________________________________________\\ndropout_8 (Dropout)          (None, 2, 2, 128)         0         \\n_________________________________________________________________\\nflatten_3 (Flatten)          (None, 512)               0         \\n_________________________________________________________________\\ndense_5 (Dense)              (None, 128)               65664     \\n_________________________________________________________________\\ndense_6 (Dense)              (None, 10)                1290      \\n=================================================================\\n\\n'"
            ]
          },
          "metadata": {
            "tags": []
          },
          "execution_count": 1
        }
      ]
    },
    {
      "cell_type": "code",
      "metadata": {
        "id": "c2RTLEClGqlC",
        "colab_type": "code",
        "colab": {
          "base_uri": "https://localhost:8080/",
          "height": 365
        },
        "outputId": "1fc0e61b-5319-47d6-f942-d7e2e89997d5"
      },
      "source": [
        "# Q4. 이곳에 위의 표에 맞는 딥러닝의 모델을 Keras로 코딩하십시오. 모델 부문만 작성하고 마지막에 print로 summary를 출력하십시오.\n",
        "# 가정 1 : input은 24 x 24의 흑백 이미지\n",
        "# 가정 2 : convolution layer에서 사용하는 activation function은 ReLU로 통일 \n",
        "# 가정 3 : maxpooling 시 pool_size는 2 x 2\n",
        "# 가정 4 : dropout rate는 0.5\n",
        "# 가정 5 : dense_5 layer에서 사용하는 activation function은 ReLU\n",
        "# 가정 6 : dense_6 layer에서 사용하는 activation function은 softmax\n",
        "import keras\n",
        "from keras.models import Sequential\n",
        "from keras.layers import Dense, Dropout, Flatten\n",
        "from keras.layers import Conv2D, MaxPooling2D\n",
        "from keras import backend as K\n",
        "\n",
        "mymodel = Sequential()\n",
        "mymodel.add(Conv2D(24, (3,3), activation='relu'))\n",
        "mymodel.add(MaxPooling2D(pool_size=(2,2)))\n",
        "mymodel.add(Conv2D(64, (3,3), activation='relu'))\n",
        "mymodel.add(MaxPooling2D(pool_size=(2,2)))\n",
        "mymodel.add(Conv2D(128, (3,3), activation='relu'))\n",
        "mymodel.add(MaxPooling2D(pool_size=(2,2)))\n",
        "mymodel.add(Dense(128, activation='relu'))\n",
        "mymodel.add(Dense(10, activation='softmax'))\n",
        "\n",
        "\n",
        "print(mymodel.summary())\n",
        "# The End"
      ],
      "execution_count": 10,
      "outputs": [
        {
          "output_type": "error",
          "ename": "ValueError",
          "evalue": "ignored",
          "traceback": [
            "\u001b[0;31m---------------------------------------------------------------------------\u001b[0m",
            "\u001b[0;31mValueError\u001b[0m                                Traceback (most recent call last)",
            "\u001b[0;32m<ipython-input-10-0a1257e2a9a9>\u001b[0m in \u001b[0;36m<module>\u001b[0;34m()\u001b[0m\n\u001b[1;32m     23\u001b[0m \u001b[0;34m\u001b[0m\u001b[0m\n\u001b[1;32m     24\u001b[0m \u001b[0;34m\u001b[0m\u001b[0m\n\u001b[0;32m---> 25\u001b[0;31m \u001b[0mprint\u001b[0m\u001b[0;34m(\u001b[0m\u001b[0mmymodel\u001b[0m\u001b[0;34m.\u001b[0m\u001b[0msummary\u001b[0m\u001b[0;34m(\u001b[0m\u001b[0;34m)\u001b[0m\u001b[0;34m)\u001b[0m\u001b[0;34m\u001b[0m\u001b[0;34m\u001b[0m\u001b[0m\n\u001b[0m\u001b[1;32m     26\u001b[0m \u001b[0;31m# The End\u001b[0m\u001b[0;34m\u001b[0m\u001b[0;34m\u001b[0m\u001b[0;34m\u001b[0m\u001b[0m\n",
            "\u001b[0;32m/usr/local/lib/python3.6/dist-packages/keras/engine/network.py\u001b[0m in \u001b[0;36msummary\u001b[0;34m(self, line_length, positions, print_fn)\u001b[0m\n\u001b[1;32m   1318\u001b[0m         \u001b[0;32mif\u001b[0m \u001b[0;32mnot\u001b[0m \u001b[0mself\u001b[0m\u001b[0;34m.\u001b[0m\u001b[0mbuilt\u001b[0m\u001b[0;34m:\u001b[0m\u001b[0;34m\u001b[0m\u001b[0;34m\u001b[0m\u001b[0m\n\u001b[1;32m   1319\u001b[0m             raise ValueError(\n\u001b[0;32m-> 1320\u001b[0;31m                 \u001b[0;34m'This model has not yet been built. '\u001b[0m\u001b[0;34m\u001b[0m\u001b[0;34m\u001b[0m\u001b[0m\n\u001b[0m\u001b[1;32m   1321\u001b[0m                 \u001b[0;34m'Build the model first by calling build() '\u001b[0m\u001b[0;34m\u001b[0m\u001b[0;34m\u001b[0m\u001b[0m\n\u001b[1;32m   1322\u001b[0m                 \u001b[0;34m'or calling fit() with some data. '\u001b[0m\u001b[0;34m\u001b[0m\u001b[0;34m\u001b[0m\u001b[0m\n",
            "\u001b[0;31mValueError\u001b[0m: This model has not yet been built. Build the model first by calling build() or calling fit() with some data. Or specify input_shape or batch_input_shape in the first layer for automatic build. "
          ]
        }
      ]
    },
    {
      "cell_type": "markdown",
      "metadata": {
        "id": "k6z0l1F6d_SU",
        "colab_type": "text"
      },
      "source": [
        "Q5. 아래  코드가 출력하는 그래프에서 validation loss 값이 모든 epoch 구간에서 training loss 값보다 작도록  코드를 수정하시오. 현재의 그래프는 최적 상태가 아닙니다."
      ]
    },
    {
      "cell_type": "code",
      "metadata": {
        "id": "_3uvk7IVeIZs",
        "colab_type": "code",
        "outputId": "cd3661d6-9e8e-4461-fa26-a2095c07c148",
        "colab": {
          "base_uri": "https://localhost:8080/",
          "height": 1000
        }
      },
      "source": [
        "from keras.datasets import mnist\n",
        "from matplotlib import pyplot as plt\n",
        "plt.style.use('dark_background')\n",
        "from keras.models import Sequential\n",
        "from keras.layers import Dense, Flatten, Activation, Dropout\n",
        "from keras.utils import normalize, to_categorical\n",
        "\n",
        "(X_train, y_train), (X_test, y_test) = mnist.load_data()\n",
        "\n",
        "plt.imshow(X_train[0], cmap = plt.cm.binary)\n",
        "plt.show()\n",
        "\n",
        "X_train = normalize(X_train, axis=1)\n",
        "X_test = normalize(X_test, axis=1)\n",
        "y_train = to_categorical(y_train)\n",
        "y_test = to_categorical(y_test)\n",
        "\n",
        "model = Sequential()\n",
        "model.add(Flatten(input_shape=(28, 28)))\n",
        "model.add(Dense(128))\n",
        "model.add(Activation('relu'))\n",
        "model.add(Dense(128))\n",
        "model.add(Activation('relu'))\n",
        "model.add(Dense(10))\n",
        "model.add(Activation('softmax'))\n",
        "model.summary()\n",
        "\n",
        "model.compile(\n",
        "    loss='categorical_crossentropy',\n",
        "    optimizer='adam',\n",
        "    metrics=['accuracy']\n",
        ")\n",
        "history = model.fit(\n",
        "    X_train,\n",
        "    y_train,\n",
        "    epochs=10,\n",
        "    batch_size=32,\n",
        "    validation_split=0.1,\n",
        "    verbose = 1,\n",
        "    shuffle=True\n",
        ")\n",
        "\n",
        "loss = history.history['loss']\n",
        "val_loss = history.history['val_loss']\n",
        "epochs = range(1, len(loss) + 1)\n",
        "plt.plot(epochs, loss, 'y', label='Training loss')\n",
        "plt.plot(epochs, val_loss, 'r', label='Validation loss')\n",
        "plt.title('Training and validation loss')\n",
        "plt.xlabel('Epochs')\n",
        "plt.ylabel('Loss')\n",
        "plt.legend()\n",
        "plt.show()"
      ],
      "execution_count": 15,
      "outputs": [
        {
          "output_type": "stream",
          "text": [
            "Downloading data from https://s3.amazonaws.com/img-datasets/mnist.npz\n",
            "11493376/11490434 [==============================] - 0s 0us/step\n"
          ],
          "name": "stdout"
        },
        {
          "output_type": "display_data",
          "data": {
            "image/png": "[encoded data removed]",
            "text/plain": [
              "<Figure size 432x288 with 1 Axes>"
            ]
          },
          "metadata": {
            "tags": []
          }
        },
        {
          "output_type": "stream",
          "text": [
            "Model: \"sequential_4\"\n",
            "_________________________________________________________________\n",
            "Layer (type)                 Output Shape              Param #   \n",
            "=================================================================\n",
            "flatten_1 (Flatten)          (None, 784)               0         \n",
            "_________________________________________________________________\n",
            "dense_3 (Dense)              (None, 128)               100480    \n",
            "_________________________________________________________________\n",
            "activation_1 (Activation)    (None, 128)               0         \n",
            "_________________________________________________________________\n",
            "dense_4 (Dense)              (None, 128)               16512     \n",
            "_________________________________________________________________\n",
            "activation_2 (Activation)    (None, 128)               0         \n",
            "_________________________________________________________________\n",
            "dense_5 (Dense)              (None, 10)                1290      \n",
            "_________________________________________________________________\n",
            "activation_3 (Activation)    (None, 10)                0         \n",
            "=================================================================\n",
            "Total params: 118,282\n",
            "Trainable params: 118,282\n",
            "Non-trainable params: 0\n",
            "_________________________________________________________________\n",
            "Train on 54000 samples, validate on 6000 samples\n",
            "Epoch 1/10\n",
            "54000/54000 [==============================] - 8s 147us/step - loss: 0.2803 - accuracy: 0.9185 - val_loss: 0.1200 - val_accuracy: 0.9608\n",
            "Epoch 2/10\n",
            "54000/54000 [==============================] - 5s 99us/step - loss: 0.1157 - accuracy: 0.9650 - val_loss: 0.1115 - val_accuracy: 0.9643\n",
            "Epoch 3/10\n",
            "54000/54000 [==============================] - 5s 98us/step - loss: 0.0769 - accuracy: 0.9766 - val_loss: 0.0891 - val_accuracy: 0.9740\n",
            "Epoch 4/10\n",
            "54000/54000 [==============================] - 5s 95us/step - loss: 0.0557 - accuracy: 0.9822 - val_loss: 0.0881 - val_accuracy: 0.9757\n",
            "Epoch 5/10\n",
            "54000/54000 [==============================] - 5s 96us/step - loss: 0.0435 - accuracy: 0.9862 - val_loss: 0.0868 - val_accuracy: 0.9723\n",
            "Epoch 6/10\n",
            "54000/54000 [==============================] - 5s 97us/step - loss: 0.0327 - accuracy: 0.9891 - val_loss: 0.0777 - val_accuracy: 0.9775\n",
            "Epoch 7/10\n",
            "54000/54000 [==============================] - 5s 96us/step - loss: 0.0261 - accuracy: 0.9915 - val_loss: 0.0943 - val_accuracy: 0.9753\n",
            "Epoch 8/10\n",
            "54000/54000 [==============================] - 5s 95us/step - loss: 0.0217 - accuracy: 0.9929 - val_loss: 0.0832 - val_accuracy: 0.9812\n",
            "Epoch 9/10\n",
            "54000/54000 [==============================] - 5s 97us/step - loss: 0.0185 - accuracy: 0.9939 - val_loss: 0.1029 - val_accuracy: 0.9738\n",
            "Epoch 10/10\n",
            "54000/54000 [==============================] - 5s 96us/step - loss: 0.0180 - accuracy: 0.9934 - val_loss: 0.0840 - val_accuracy: 0.9787\n"
          ],
          "name": "stdout"
        },
        {
          "output_type": "display_data",
          "data": {
            "image/png": "[encoded data removed]",
            "text/plain": [
              "<Figure size 432x288 with 1 Axes>"
            ]
          },
          "metadata": {
            "tags": []
          }
        }
      ]
    },
    {
      "cell_type": "markdown",
      "metadata": {
        "id": "o176gKn3yL-O",
        "colab_type": "text"
      },
      "source": [
        "Q6. Mini-batch size & Learning Rate 튜닝"
      ]
    },
    {
      "cell_type": "code",
      "metadata": {
        "id": "achHRPhwHPF3",
        "colab_type": "code",
        "colab": {}
      },
      "source": [
        "# mlp for the blobs problem with minibatch gradient descent with varied batch size\n",
        "# 아래의 코드에서 다음 두 개의 파라미터를 조합하여 최고의 모델링 성능을 내고 그 결과를 print()로 출력하십시오.\n",
        "# 튜닝할 파라미터 : batch_size & lr (각각 3가지의 옵션이 있으므로 두 파라미터를 조합할 수 있는 경우의 수는 모두 9가지)\n",
        "# 모델의 성능 평가 기준은 다음의 우선순위에 따라 결정하시오. \n",
        "# 1. Validation Loss가 최소, 2. Accuracy는 최고값에 가까울 것\n",
        "# 9번의 실험 후 최적이라고 생각되는 파라미터 값을 코드에 지정하고 셀을 다시 run하여 최종 결과를 출력하시오.\n",
        "%%time\n",
        "from sklearn.datasets import make_blobs\n",
        "from keras.layers import Dense\n",
        "from keras.models import Sequential\n",
        "from keras.optimizers import SGD\n",
        "from keras.utils import to_categorical\n",
        "from matplotlib import pyplot\n",
        "\n",
        "# prepare train and test dataset\n",
        "def prepare_data():\n",
        "\t# generate 2d classification dataset\n",
        "\tX, y = make_blobs(n_samples=1000, centers=3, n_features=2, cluster_std=2, random_state=2)\n",
        "\t# one hot encode output variable\n",
        "\ty = to_categorical(y)\n",
        "\t# split into train and test\n",
        "\tn_train = 500\n",
        "\ttrainX, testX = X[:n_train, :], X[n_train:, :]\n",
        "\ttrainy, testy = y[:n_train], y[n_train:]\n",
        "\treturn trainX, trainy, testX, testy\n",
        "\n",
        "# fit a model and plot learning curve\n",
        "def fit_model(trainX, trainy, testX, testy, n_batch):\n",
        "\t\n",
        "  # define model\n",
        "\tmodel = Sequential()\n",
        "\tmodel.add(Dense(50, input_dim=2, activation='relu', kernel_initializer='he_uniform'))\n",
        "\tmodel.add(Dense(3, activation='softmax'))\n",
        "\t\n",
        "  # lr의 값을  0.1, 0.01, 0.001 중에서 선택하여 이곳에 지정\n",
        "\topt = SGD(lr=your_lr, momentum=0.9) \n",
        "\tmodel.compile(loss='categorical_crossentropy', optimizer=opt, metrics=['accuracy'])\n",
        "\t# fit model\n",
        "\thistory = model.fit(trainX, trainy, validation_data=(testX, testy), epochs=150, verbose=2, batch_size=n_batch)\n",
        "\tprint('accuracy = ', format(history.history['accuracy'][149],\".3f\"), ' ', 'validation loss = ', format(history.history['val_loss'][149],\".3f\"))\n",
        "  # plot learning curves\n",
        "\tpyplot.plot(history.history['accuracy'], label='train')\n",
        "\tpyplot.plot(history.history['val_loss'], label='test')\n",
        "\tpyplot.title('batch='+str(n_batch), pad=-40)\n",
        "\n",
        "\n",
        "\n",
        "# prepare dataset\n",
        "trainX, trainy, testX, testy = prepare_data()\n",
        "\n",
        "# batch_size의 값을   16, 32, 64 중에서 선택하여 이곳에 지정\n",
        "batch_size = your_batch_size\n",
        "\n",
        "fit_model(trainX, trainy, testX, testy, batch_size)\n",
        "# show learning curves\n",
        "pyplot.show()\n",
        "\n",
        "# 결과를 메모장에 적어놓고 lr과 batch_size를 바꿔가며 최적의 파라미터를 찾아가시오.\n",
        "# 최적의 lr과 batch_size를 선택하여 위의 코드에 적고 Run한 결과룰 출력하여 제출하시오. "
      ],
      "execution_count": 0,
      "outputs": []
    },
    {
      "cell_type": "markdown",
      "metadata": {
        "id": "U7B16qvfgODH",
        "colab_type": "text"
      },
      "source": [
        "Q7 . RNN 문장 생성기\n"
      ]
    },
    {
      "cell_type": "code",
      "metadata": {
        "id": "_2DqrQtH9Itp",
        "colab_type": "code",
        "colab": {}
      },
      "source": [
        "# 다음의 코드를 완성하시오\n",
        "from tensorflow.keras.preprocessing.text import Tokenizer\n",
        "from tensorflow.keras.preprocessing.sequence import pad_sequences\n",
        "import numpy as np\n",
        "from tensorflow.keras.utils import to_categorical\n",
        "\n",
        "text=\"\"\"특히 최근 수도권에서는 교회 소모임 참석자에 이어 이들 가족과 지인으로 번지는 2차 감염 사례가 증가하고 있습니다. 중앙재난안전대책본부는 오늘까지 수도권 교회와 관련한 코로나19 확진자는 총 63명이라고 밝혔으며  2차 감염자는 33명 이라고 전했습니다. \"\"\"\n",
        "\n",
        "\n",
        "t = Tokenizer()\n",
        "t.fit_on_texts([text])\n",
        "vocab_size = len(t.word_index) + 1\n",
        "print('단어 집합의 크기 : %d' % vocab_size)\n",
        "\n",
        "\n",
        "print(t.word_index)\n",
        "\n",
        "sequences = list()\n",
        "for line in text.split('\\n'): \n",
        "    encoded = t.texts_to_sequences([line])[0]\n",
        "    for i in range(1, len(encoded)):\n",
        "        sequence = encoded[:i+1]\n",
        "        sequences.append(sequence)\n",
        "\n",
        "print('학습에 사용할 샘플의 개수: %d' % len(sequences))\n",
        "\n",
        "\n",
        "max_len=max(len(l) for l in sequences) \n",
        "\n",
        "sequences = pad_sequences(sequences, maxlen=max_len, padding='pre')\n",
        "\n",
        "sequences = np.array(sequences)\n",
        "X = sequences[:,:-1]\n",
        "y = sequences[:,-1]\n",
        "\n",
        "\n",
        "from tensorflow.keras.models import Sequential\n",
        "from tensorflow.keras.layers import Embedding, Dense, SimpleRNN\n",
        "\n",
        "model = Sequential()\n",
        "model.add(Embedding(vocab_size, 10, input_length=max_len-1))  \n",
        "model.add(SimpleRNN(32))\n",
        "model.add(Dense(vocab_size, activation='softmax'))\n",
        "model.compile(loss='sparse_categorical_crossentropy', optimizer='adam', metrics=['accuracy'])\n",
        "model.fit(X, y, epochs=120, verbose=2)\n",
        "\n",
        "# 이 블록에서 yoou_code_here 부분을 완성하시오\n",
        "def sentence_generation(model, t, current_word, n): # model = 모델, t = 토크나이저, current_word = 현재 단어, n = 반복할 횟수\n",
        "    init_word = current_word # 처음 들어온 단어도 마지막에 같이 출력하기위해 저장\n",
        "    sentence = ''\n",
        "    for _ in range(n): # n번 반복\n",
        "        encoded = t.texts_to_sequences([current_word])[0] # 현재 단어에 대한 정수 인코딩\n",
        "        encoded = pad_sequences([encoded], maxlen=30, padding='pre') # 데이터에 대한 패딩\n",
        "        result = np.argmax(model.predict(encoded), axis=-1)\n",
        "        for word, index in t.word_index.items(): \n",
        "            if index == result: # 만약 예측한 단어의 인덱스 값이 동일한 단어가 있다면\n",
        "                break # 해당 단어가 예측 단어이므로 break\n",
        "        current_word =  # 현재 단어 + ' ' + 예측한 단어를 current_word로 저장\n",
        "        sentence = your_code_here  # 예측한 단어를 sentence에 append\n",
        "     \n",
        "    sentence = your_code_here # 초기의 텍스트와 for loop에서 생성된 텍스트를 concatenate\n",
        "    return sentence\n",
        "\n",
        "print(sentence_generation(model, t, '특히', 10))"
      ],
      "execution_count": 0,
      "outputs": []
    },
    {
      "cell_type": "markdown",
      "metadata": {
        "id": "Q_ZqqZcvN1PQ",
        "colab_type": "text"
      },
      "source": [
        "## 20년1학기-기말고사-yourname.ipynb로 다운로드한 후 제출하십시오.\n",
        "수고하였습니다!"
      ]
    }
  ]
}